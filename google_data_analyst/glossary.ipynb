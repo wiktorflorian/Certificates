{
 "cells": [
  {
   "attachments": {},
   "cell_type": "markdown",
   "metadata": {},
   "source": [
    "# Glossary\n",
    "\n",
    "Data Analytics\n",
    "\n",
    "Terms and Definitions"
   ]
  },
  {
   "attachments": {},
   "cell_type": "markdown",
   "metadata": {},
   "source": [
    "## D"
   ]
  },
  {
   "attachments": {},
   "cell_type": "markdown",
   "metadata": {},
   "source": [
    "+ **Data**: A collection of facts.\n",
    "+ **Data analysis**: The collection, transformation, and organization of data in order to draw conclusions, make predictions, and drive informed decision-making.\n",
    "+ **Data analyst**: Someone who collects, transforms, and organizes data in order to drive informed decision-making.\n",
    "+ **Data analytics**: The science of data.\n",
    "+ **Data-driven decision-making**: Using facts to guide business strategy.\n",
    "+ **Data ecosystem**: The various elements that interact with one another in order to produce, manage, store, organize, analyze, and share data.\n",
    "+ **Data science**: A field of study that uses raw data to create new ways of modeling and understanding the unknown.\n",
    "+ **Dataset**: A collection of data that can be manipulated or analyzed as one unit."
   ]
  },
  {
   "attachments": {},
   "cell_type": "markdown",
   "metadata": {},
   "source": []
  }
 ],
 "metadata": {
  "language_info": {
   "name": "python"
  },
  "orig_nbformat": 4
 },
 "nbformat": 4,
 "nbformat_minor": 2
}
