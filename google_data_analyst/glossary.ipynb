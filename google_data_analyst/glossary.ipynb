{
 "cells": [
  {
   "attachments": {},
   "cell_type": "markdown",
   "metadata": {},
   "source": [
    "# Glossary\n",
    "\n",
    "Data Analytics\n",
    "\n",
    "Terms and Definitions"
   ]
  },
  {
   "attachments": {},
   "cell_type": "markdown",
   "metadata": {},
   "source": [
    "## A"
   ]
  },
  {
   "attachments": {},
   "cell_type": "markdown",
   "metadata": {},
   "source": [
    "+ **Action-oriented question**: A question whose answers lead to change.\n",
    "+ **Algorithm**: A process or set of rules followed for a specific task.\n",
    "+ **Analytical skills**: Qualities and characteristic associated with using facts to solve problems.\n",
    "+ **Analytical thinking**: The process of identifying and defining a problem, then solving it by using data in an organized, step-by-step manner.\n",
    "+ **Attribute**: A characteristic or quality of data used to label a column in a table."
   ]
  },
  {
   "attachments": {},
   "cell_type": "markdown",
   "metadata": {},
   "source": [
    "## B"
   ]
  },
  {
   "attachments": {},
   "cell_type": "markdown",
   "metadata": {},
   "source": [
    "+ **Big data**: Large complex datasets typically involving long periods of time, which enable data analysts to address far-reaching business problems.\n",
    "+ **Business task**: The question or problem data analysis resolves for a business."
   ]
  },
  {
   "attachments": {},
   "cell_type": "markdown",
   "metadata": {},
   "source": [
    "## C"
   ]
  },
  {
   "attachments": {},
   "cell_type": "markdown",
   "metadata": {},
   "source": [
    "+ **Cloud**: A place to keep data online, rather than a computer hard drive.\n",
    "+ **Context**: The condition in which something exists or happens."
   ]
  },
  {
   "attachments": {},
   "cell_type": "markdown",
   "metadata": {},
   "source": [
    "## D"
   ]
  },
  {
   "attachments": {},
   "cell_type": "markdown",
   "metadata": {},
   "source": [
    "+ **Dashboard**: A tool that monitors live, incoming data.\n",
    "+ **Data**: A collection of facts.\n",
    "+ **Data analysis**: The collection, transformation, and organization of data in order to draw conclusions, make predictions, and drive informed decision-making.\n",
    "+ **Data analysis process**: The six phases of ask, prepare, process, analyze, share and act whose purpose is to gain insights that drive informed decision-making.\n",
    "+ **Data analyst**: Someone who collects, transforms, and organizes data in order to drive informed decision-making.\n",
    "+ **Data analytics**: The science of data.\n",
    "+ **Data design**: How information is organized.\n",
    "+ **Data-driven decision-making**: Using facts to guide business strategy.\n",
    "+ **Data ecosystem**: The various elements that interact with one another in order to produce, manage, store, organize, analyze, and share data.\n",
    "+ **Data-inspired decision-making**: The process of exploring different data sources to find out what they have in comon.\n",
    "+ **Data life cycle**: The sequence of stages that data experiences, which include plan, capture, manage, analyze, archive, and destory.\n",
    "+ **Data science**: A field of study that uses raw data to create new ways of modeling and understanding the unknown.\n",
    "+ **Data strategy**: The management of the people, processes, and tools used in data analysis.\n",
    "+ **Data visualization**: The graphical representation of data.\n",
    "+ **Database**: A collection of data stored in a computer system.\n",
    "+ **Dataset**: A collection of data that can be manipulated or analyzed as one unit."
   ]
  },
  {
   "attachments": {},
   "cell_type": "markdown",
   "metadata": {},
   "source": [
    "## E"
   ]
  },
  {
   "attachments": {},
   "cell_type": "markdown",
   "metadata": {},
   "source": [
    "## F"
   ]
  },
  {
   "attachments": {},
   "cell_type": "markdown",
   "metadata": {},
   "source": [
    "+ **Fairness**: A quality of data analysis that does not create or reinforce bias.\n",
    "+ **Formula**: A set of instructions used to perform a calculation using the data in a spreadsheet.\n",
    "+ **Function**: A preset command that automatically performs a specified process or task using the data in a spreadsheet."
   ]
  },
  {
   "attachments": {},
   "cell_type": "markdown",
   "metadata": {},
   "source": [
    "## G"
   ]
  },
  {
   "attachments": {},
   "cell_type": "markdown",
   "metadata": {},
   "source": [
    "+ **Gap analysis**: A method for examining and evaluating the current state of a process in order to identify opportunities for improvement in the future."
   ]
  },
  {
   "attachments": {},
   "cell_type": "markdown",
   "metadata": {},
   "source": [
    "## H"
   ]
  },
  {
   "attachments": {},
   "cell_type": "markdown",
   "metadata": {},
   "source": [
    "## I"
   ]
  },
  {
   "attachments": {},
   "cell_type": "markdown",
   "metadata": {},
   "source": [
    "## J"
   ]
  },
  {
   "attachments": {},
   "cell_type": "markdown",
   "metadata": {},
   "source": [
    "## K"
   ]
  },
  {
   "attachments": {},
   "cell_type": "markdown",
   "metadata": {},
   "source": [
    "## L"
   ]
  },
  {
   "attachments": {},
   "cell_type": "markdown",
   "metadata": {},
   "source": [
    "+ **Leading question**: A question that steers people toward a certain response."
   ]
  },
  {
   "attachments": {},
   "cell_type": "markdown",
   "metadata": {},
   "source": [
    "## M"
   ]
  },
  {
   "attachments": {},
   "cell_type": "markdown",
   "metadata": {},
   "source": [
    "+ **Measurable question**: A question whose answers can be quantified and assessed.\n",
    "+ **Metric**: A single, quantifiable type of data that is used for measurement.\n",
    "+ **Metric goal**: A measurable goal set by a company and evaluated using metrics."
   ]
  },
  {
   "attachments": {},
   "cell_type": "markdown",
   "metadata": {},
   "source": [
    "## N"
   ]
  },
  {
   "attachments": {},
   "cell_type": "markdown",
   "metadata": {},
   "source": [
    "## O"
   ]
  },
  {
   "attachments": {},
   "cell_type": "markdown",
   "metadata": {},
   "source": [
    "+ **Observation**: The attributes that describe a piece of data contained in a row of a table"
   ]
  },
  {
   "attachments": {},
   "cell_type": "markdown",
   "metadata": {},
   "source": [
    "## P"
   ]
  },
  {
   "attachments": {},
   "cell_type": "markdown",
   "metadata": {},
   "source": [
    "+ **Pivot chart**: A chart created from the fields in a pivot table.\n",
    "+ **Pivot table**: A data summarization tool used to sort, reorganize, group, count, total, or average data.\n",
    "+ **Problem types**: The various problems that data analysts encounter, including categorizing things, discovering connections, finding patterns, identifying themes, making predictions, and spotting somethin unusual."
   ]
  },
  {
   "attachments": {},
   "cell_type": "markdown",
   "metadata": {},
   "source": [
    "## Q"
   ]
  },
  {
   "attachments": {},
   "cell_type": "markdown",
   "metadata": {},
   "source": [
    "+ **Qualitative data**: A subjective and explanatory measure of a quality or characteristic.\n",
    "+ **Quantitative data**: A specific and objective measure, such as a number, quantity, or range.\n",
    "+ **Query**: A request for data or information from a database.\n",
    "+ **Query language**: A computer programming language used to communicate with a database."
   ]
  },
  {
   "attachments": {},
   "cell_type": "markdown",
   "metadata": {},
   "source": [
    "## R"
   ]
  },
  {
   "attachments": {},
   "cell_type": "markdown",
   "metadata": {},
   "source": [
    "+ **Relevant question**: A question that has significance to the problem to be solved.\n",
    "+ **Report**: A static collection of data periodically given to stakeholders.\n",
    "+ **Return on investemnt (ROI)**: A formula that uses the metrics of investment and profit to evaluate the success of an investment.\n",
    "+ **Revenue**: The total amount of income generated by the sale of goods or services.\n",
    "+ **Root cause**: The reason why a problem occurs."
   ]
  },
  {
   "attachments": {},
   "cell_type": "markdown",
   "metadata": {},
   "source": [
    "## S"
   ]
  },
  {
   "attachments": {},
   "cell_type": "markdown",
   "metadata": {},
   "source": [
    "+ **Small data**: Small, specific data points typically involving a short period of time, which are useful for making day-to-day decisions.\n",
    "+ **SMART methodology**: A tool for determining a question's effectiveness based on wheter it is specific, measurable, action-oriented, relevant, and time-bound.\n",
    "+ **Specific question**: A question that is simple, significant, and focused on a single topic or a few closely related ideas.\n",
    "+ **Spreadsheet**: A digital worksheet.\n",
    "+ **Stakeholders**: People who invest time and resources into a project and are interested in its outcome.\n",
    "+ **Structured Query Language**: A computer programming language used to communicate with a database.\n",
    "+ **Structured thinking**: The process of recognizing the current problem or situation, organizing available information, revealing gaps and opportunities, and identifying options."
   ]
  },
  {
   "attachments": {},
   "cell_type": "markdown",
   "metadata": {},
   "source": [
    "## T"
   ]
  },
  {
   "attachments": {},
   "cell_type": "markdown",
   "metadata": {},
   "source": [
    "+ **Technical mindset**: The ability to break things down into smaller steps or pieces and work with them in an orderly and logical way.\n",
    "+ **Time-bound question**: A question that specifies a timefram to be studied."
   ]
  },
  {
   "attachments": {},
   "cell_type": "markdown",
   "metadata": {},
   "source": [
    "## U"
   ]
  },
  {
   "attachments": {},
   "cell_type": "markdown",
   "metadata": {},
   "source": [
    "+ **Unfair question**: A question that makes assumptions or is difficult to answer honestly."
   ]
  },
  {
   "attachments": {},
   "cell_type": "markdown",
   "metadata": {},
   "source": [
    "## V"
   ]
  },
  {
   "attachments": {},
   "cell_type": "markdown",
   "metadata": {},
   "source": [
    "+ **Visualization**: (Refer to data visualization)"
   ]
  },
  {
   "attachments": {},
   "cell_type": "markdown",
   "metadata": {},
   "source": [
    "## W"
   ]
  },
  {
   "attachments": {},
   "cell_type": "markdown",
   "metadata": {},
   "source": [
    "## X"
   ]
  },
  {
   "attachments": {},
   "cell_type": "markdown",
   "metadata": {},
   "source": [
    "## Y"
   ]
  },
  {
   "attachments": {},
   "cell_type": "markdown",
   "metadata": {},
   "source": [
    "## z"
   ]
  }
 ],
 "metadata": {
  "language_info": {
   "name": "python"
  },
  "orig_nbformat": 4
 },
 "nbformat": 4,
 "nbformat_minor": 2
}
