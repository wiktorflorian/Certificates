{
 "cells": [
  {
   "attachments": {},
   "cell_type": "markdown",
   "metadata": {},
   "source": [
    "# Google Data Analytics Certificate"
   ]
  },
  {
   "attachments": {},
   "cell_type": "markdown",
   "metadata": {},
   "source": [
    "## Foundations: Data, Data, Everywhere"
   ]
  },
  {
   "attachments": {},
   "cell_type": "markdown",
   "metadata": {},
   "source": [
    "### The six steps of the data analysis"
   ]
  },
  {
   "attachments": {},
   "cell_type": "markdown",
   "metadata": {},
   "source": [
    "1. **Ask** questions and define the problem.\n",
    "2. **Prepare** data by collecting and storing the information.\n",
    "3. **Process** data by cleaning and checking the information.\n",
    "4. **Analyze** data to find patterns, relationships, and trens.\n",
    "5. **Share** data with the audience.\n",
    "6. **Act** on the data and use the analysis results."
   ]
  },
  {
   "attachments": {},
   "cell_type": "markdown",
   "metadata": {},
   "source": [
    "1. **Ask**: Business Challenge/Objective/Question.\n",
    "2. **Prepare**: Data generation, collection, storage, and data management.\n",
    "3. **Process**: Data cleaning/data integirty.\n",
    "4. **Analyze**: Data exploration, visualization, and analysis.\n",
    "5. **Share**: Communicating and interpreting results.\n",
    "6. **Act**: Putting you insights to work to solve the problem."
   ]
  },
  {
   "attachments": {},
   "cell_type": "markdown",
   "metadata": {},
   "source": [
    "### EMC's data analysis life cycle"
   ]
  },
  {
   "attachments": {},
   "cell_type": "markdown",
   "metadata": {},
   "source": [
    "Created by David Dietrich\n",
    "\n",
    "https://onlinelibrary.wiley.com/doi/book/10.1002/9781119183686"
   ]
  },
  {
   "attachments": {},
   "cell_type": "markdown",
   "metadata": {},
   "source": [
    "1. **Discovery**\n",
    "2. **Pre-processing data**\n",
    "3. **Model planning**\n",
    "4. **Model building**\n",
    "5. **Communicate results**\n",
    "6. **Operationalize**"
   ]
  },
  {
   "attachments": {},
   "cell_type": "markdown",
   "metadata": {},
   "source": [
    "### SAS's iterative life cycle"
   ]
  },
  {
   "attachments": {},
   "cell_type": "markdown",
   "metadata": {},
   "source": [
    "https://www.sas.com/content/dam/SAS/en_us/doc/whitepaper1/manage-analytical-life-cycle-continuous-innovation-106179.pdf"
   ]
  },
  {
   "attachments": {},
   "cell_type": "markdown",
   "metadata": {},
   "source": [
    "1. **Ask**\n",
    "2. **Prepare**\n",
    "3. **Explore**\n",
    "4. **Model**\n",
    "5. **Implement**\n",
    "6. **Act**\n",
    "7. **Evaluate**"
   ]
  },
  {
   "attachments": {},
   "cell_type": "markdown",
   "metadata": {},
   "source": [
    "### Project-based data analytics life cycle"
   ]
  },
  {
   "attachments": {},
   "cell_type": "markdown",
   "metadata": {},
   "source": [
    "Created by Vignesh Prajapati.\n",
    "\n",
    "http://pingax.com/understanding-data-analytics-project-life-cycle/"
   ]
  },
  {
   "attachments": {},
   "cell_type": "markdown",
   "metadata": {},
   "source": [
    "1. **Identifying the problem**\n",
    "2. **Designing data requirements**\n",
    "3. **Pre-processing data**\n",
    "4. **Performing data analysis**\n",
    "5. **Visualizing data**"
   ]
  },
  {
   "attachments": {},
   "cell_type": "markdown",
   "metadata": {},
   "source": [
    "### Big data analytics life cycle"
   ]
  },
  {
   "attachments": {},
   "cell_type": "markdown",
   "metadata": {},
   "source": [
    "Created by Thomas Erl, Wajid Khattak, and Paul Buhler (Big Data Fundamentals: Concepts, Drivers & Techniques)\n",
    "\n",
    "https://www.informit.com/articles/article.aspx?p=2473128&seqNum=11&ranMID=24808"
   ]
  },
  {
   "attachments": {},
   "cell_type": "markdown",
   "metadata": {},
   "source": [
    "1. **Business case evaluation**:\n",
    "2. **Data identification**:\n",
    "3. **Data acquisition and filtering**:\n",
    "4. **Data extracion**:\n",
    "5. **Data validation and cleaning**:\n",
    "6. **Data aggregation and representation**:\n",
    "7. **Data analysis**:\n",
    "8. **Data visualization**:\n",
    "9. **Utilization of analysis results**:"
   ]
  },
  {
   "attachments": {},
   "cell_type": "markdown",
   "metadata": {},
   "source": [
    "### Essential aspects of analytical skills"
   ]
  },
  {
   "attachments": {},
   "cell_type": "markdown",
   "metadata": {},
   "source": [
    "+ **Curiosity**: a desire to know more about something, asking the right questions.\n",
    "+ **Understanding context**: understanding where information fits into the \"big picture\".\n",
    "+ **Having a technical mindset**: breaking big things into smaller steps.\n",
    "+ **Data design**: thinking about how to organize data and information.\n",
    "+ **Data strategy**: thinking about the people, processes, and tools used in data analysis."
   ]
  },
  {
   "attachments": {},
   "cell_type": "markdown",
   "metadata": {},
   "source": [
    "### Variations of the data life cycle"
   ]
  },
  {
   "attachments": {},
   "cell_type": "markdown",
   "metadata": {},
   "source": [
    "**The data life cycle** provides a generic or common framework for how data is managed."
   ]
  },
  {
   "attachments": {},
   "cell_type": "markdown",
   "metadata": {},
   "source": [
    "1. **Plan**: Decide what kind of data is needed, how it will be managed, and who will be responsible for it.\n",
    "2. **Capture**: Collect or bring in data from a variety of different sources.\n",
    "3. **Manage**: Care for and maintain the data. This includes determining how and where it is stored and the tools used to do so.\n",
    "4. **Analyze**: Use the data to solve problems, make decisions, and support business goals.\n",
    "5. **Archive**: Keep relevant data stored for long-term and future reference.\n",
    "6. **Destroy**: Remove data from storage and delete any shared copies of the data."
   ]
  },
  {
   "attachments": {},
   "cell_type": "markdown",
   "metadata": {},
   "source": [
    "### U.S. Fish and Wildlife Service\n",
    "\n",
    "https://www.fws.gov/data/life-cycle"
   ]
  },
  {
   "attachments": {},
   "cell_type": "markdown",
   "metadata": {},
   "source": [
    "1. **Plan**\n",
    "2. **Acquire**\n",
    "3. **Maintain**\n",
    "4. **Access**\n",
    "5. **Evaluate**\n",
    "6. **Archive**"
   ]
  },
  {
   "attachments": {},
   "cell_type": "markdown",
   "metadata": {},
   "source": [
    "### The U.S. Geological Survey (USGS)\n",
    "\n",
    "https://www.usgs.gov/data-management/data-lifecycle"
   ]
  },
  {
   "attachments": {},
   "cell_type": "markdown",
   "metadata": {},
   "source": [
    "1. **Plan**\n",
    "2. **Acquire**\n",
    "3. **Process**\n",
    "4. **Analyze**\n",
    "5. **Preserve**\n",
    "6. **Publich/Share**\n",
    "\n",
    "Several cross-cutting or overarching activites:\n",
    "+ **Describe (metadata and documentation)**\n",
    "+ **Manage Quality**\n",
    "+ **Backup and Secure**"
   ]
  },
  {
   "attachments": {},
   "cell_type": "markdown",
   "metadata": {},
   "source": [
    "### Financial institutions\n",
    "\n",
    "https://www.imaonlinestore.com/SSO/Login.aspx?vi=20&vt=e53e124b6552a4806d85b2e83544396f88d75c590e3adf124f1857345a04cb579de014d648fdfa9a2637fad97b9e273cdd3b5a4f021875b5d95f100c7348e220c7a953529cc50e9766a16edfec3ca0053f5b612e04d19b29fed984b05a45eb36bd8e9d76b592b62a0a41b0622e256a91&DPLF=Y"
   ]
  },
  {
   "attachments": {},
   "cell_type": "markdown",
   "metadata": {},
   "source": [
    "1. **Capture**\n",
    "2. **Qualify**\n",
    "3. **Transform**\n",
    "4. **Utilize**\n",
    "5. **Report**\n",
    "6. **Archive**\n",
    "7. **Purge**"
   ]
  },
  {
   "attachments": {},
   "cell_type": "markdown",
   "metadata": {},
   "source": [
    "### Harvard Business School (HBS)\n",
    "\n",
    "https://online.hbs.edu/blog/post/data-life-cycle"
   ]
  },
  {
   "attachments": {},
   "cell_type": "markdown",
   "metadata": {},
   "source": [
    "1. **Generation**\n",
    "2. **Collection**\n",
    "3. **Processing**\n",
    "4. **Storage**\n",
    "5. **Management**\n",
    "6. **Analysis**\n",
    "7. **Visualization**\n",
    "8. **Interpretation**"
   ]
  },
  {
   "attachments": {},
   "cell_type": "markdown",
   "metadata": {},
   "source": []
  }
 ],
 "metadata": {
  "language_info": {
   "name": "python"
  },
  "orig_nbformat": 4
 },
 "nbformat": 4,
 "nbformat_minor": 2
}
