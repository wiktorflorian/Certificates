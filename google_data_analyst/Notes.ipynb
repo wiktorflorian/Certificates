{
 "cells": [
  {
   "attachments": {},
   "cell_type": "markdown",
   "metadata": {},
   "source": [
    "# Google Data Analytics Certificate"
   ]
  },
  {
   "attachments": {},
   "cell_type": "markdown",
   "metadata": {},
   "source": [
    "### The six steps of the data analysis"
   ]
  },
  {
   "attachments": {},
   "cell_type": "markdown",
   "metadata": {},
   "source": [
    "1. **Ask** questions and define the problem.\n",
    "2. **Prepare** data by collecting and storing the information.\n",
    "3. **Process** data by cleaning and checking the information.\n",
    "4. **Analyze** data to find patterns, relationships, and trens.\n",
    "5. **Share** data with the audience.\n",
    "6. **Act** on the data and use the analysis results."
   ]
  },
  {
   "attachments": {},
   "cell_type": "markdown",
   "metadata": {},
   "source": [
    "1. **Ask**: Business Challenge/Objective/Question.\n",
    "2. **Prepare**: Data generation, collection, storage, and data management.\n",
    "3. **Process**: Data cleaning/data integirty.\n",
    "4. **Analyze**: Data exploration, visualization, and analysis.\n",
    "5. **Share**: Communicating and interpreting results.\n",
    "6. **Act**: Putting you insights to work to solve the problem."
   ]
  },
  {
   "attachments": {},
   "cell_type": "markdown",
   "metadata": {},
   "source": [
    "### EMC's data analysis life cycle"
   ]
  },
  {
   "attachments": {},
   "cell_type": "markdown",
   "metadata": {},
   "source": [
    "Created by David Dietrich\n",
    "\n",
    "https://onlinelibrary.wiley.com/doi/book/10.1002/9781119183686"
   ]
  },
  {
   "attachments": {},
   "cell_type": "markdown",
   "metadata": {},
   "source": [
    "1. **Discovery**\n",
    "2. **Pre-processing data**\n",
    "3. **Model planning**\n",
    "4. **Model building**\n",
    "5. **Communicate results**\n",
    "6. **Operationalize**"
   ]
  },
  {
   "attachments": {},
   "cell_type": "markdown",
   "metadata": {},
   "source": [
    "### SAS's iterative life cycle"
   ]
  },
  {
   "attachments": {},
   "cell_type": "markdown",
   "metadata": {},
   "source": [
    "https://www.sas.com/content/dam/SAS/en_us/doc/whitepaper1/manage-analytical-life-cycle-continuous-innovation-106179.pdf"
   ]
  },
  {
   "attachments": {},
   "cell_type": "markdown",
   "metadata": {},
   "source": [
    "1. **Ask**\n",
    "2. **Prepare**\n",
    "3. **Explore**\n",
    "4. **Model**\n",
    "5. **Implement**\n",
    "6. **Act**\n",
    "7. **Evaluate**"
   ]
  },
  {
   "attachments": {},
   "cell_type": "markdown",
   "metadata": {},
   "source": [
    "### Project-based data analytics life cycle"
   ]
  },
  {
   "attachments": {},
   "cell_type": "markdown",
   "metadata": {},
   "source": [
    "Created by Vignesh Prajapati.\n",
    "\n",
    "http://pingax.com/understanding-data-analytics-project-life-cycle/"
   ]
  },
  {
   "attachments": {},
   "cell_type": "markdown",
   "metadata": {},
   "source": [
    "1. **Identifying the problem**\n",
    "2. **Designing data requirements**\n",
    "3. **Pre-processing data**\n",
    "4. **Performing data analysis**\n",
    "5. **Visualizing data**"
   ]
  },
  {
   "attachments": {},
   "cell_type": "markdown",
   "metadata": {},
   "source": [
    "### Big data analytics life cycle"
   ]
  },
  {
   "attachments": {},
   "cell_type": "markdown",
   "metadata": {},
   "source": [
    "Created by Thomas Erl, Wajid Khattak, and Paul Buhler (Big Data Fundamentals: Concepts, Drivers & Techniques)\n",
    "\n",
    "https://www.informit.com/articles/article.aspx?p=2473128&seqNum=11&ranMID=24808"
   ]
  },
  {
   "attachments": {},
   "cell_type": "markdown",
   "metadata": {},
   "source": [
    "1. **Business case evaluation**:\n",
    "2. **Data identification**:\n",
    "3. **Data acquisition and filtering**:\n",
    "4. **Data extracion**:\n",
    "5. **Data validation and cleaning**:\n",
    "6. **Data aggregation and representation**:\n",
    "7. **Data analysis**:\n",
    "8. **Data visualization**:\n",
    "9. **Utilization of analysis results**:"
   ]
  },
  {
   "attachments": {},
   "cell_type": "markdown",
   "metadata": {},
   "source": []
  }
 ],
 "metadata": {
  "language_info": {
   "name": "python"
  },
  "orig_nbformat": 4
 },
 "nbformat": 4,
 "nbformat_minor": 2
}
